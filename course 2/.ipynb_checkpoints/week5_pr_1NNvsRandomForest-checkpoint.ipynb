{
 "cells": [
  {
   "cell_type": "code",
   "execution_count": 1,
   "metadata": {},
   "outputs": [],
   "source": [
    "from sklearn import datasets, metrics\n",
    "import numpy as np"
   ]
  },
  {
   "cell_type": "code",
   "execution_count": 2,
   "metadata": {},
   "outputs": [],
   "source": [
    "X, y = datasets.load_digits(return_X_y  = True)"
   ]
  },
  {
   "cell_type": "code",
   "execution_count": 3,
   "metadata": {},
   "outputs": [
    {
     "name": "stdout",
     "output_type": "stream",
     "text": [
      "(1797, 64)\n",
      "(1797,)\n"
     ]
    }
   ],
   "source": [
    "size = X.shape[0]\n",
    "print(X.shape)\n",
    "print(y.shape)"
   ]
  },
  {
   "cell_type": "code",
   "execution_count": 4,
   "metadata": {},
   "outputs": [
    {
     "name": "stdout",
     "output_type": "stream",
     "text": [
      "1348\n",
      "449\n"
     ]
    }
   ],
   "source": [
    "size075 = round(0.75 * size)\n",
    "size025 = round(0.25 * size)\n",
    "print(size075)\n",
    "print(size025)"
   ]
  },
  {
   "cell_type": "code",
   "execution_count": 5,
   "metadata": {},
   "outputs": [
    {
     "name": "stdout",
     "output_type": "stream",
     "text": [
      "(1348, 64)\n",
      "(1348,)\n",
      "(449, 64)\n",
      "(449,)\n"
     ]
    }
   ],
   "source": [
    "X_train, X_test = np.split(X, [size075])\n",
    "y_train, y_test = np.split(y, [size075])\n",
    "print(X_train.shape)\n",
    "print(y_train.shape)\n",
    "print(X_test.shape)\n",
    "print(y_test.shape)"
   ]
  },
  {
   "cell_type": "code",
   "execution_count": 6,
   "metadata": {},
   "outputs": [],
   "source": [
    "def euclidian_metric(x, y):\n",
    "    return np.sqrt( np.sum((x - y)**2) )"
   ]
  },
  {
   "cell_type": "code",
   "execution_count": 7,
   "metadata": {},
   "outputs": [],
   "source": [
    "y_pred_knn = []\n",
    "for test_value in X_test:\n",
    "    sorted_list = []\n",
    "    for i, x in enumerate(X_train):\n",
    "        dist = np.sqrt( np.sum((x - test_value)**2) )\n",
    "        sorted_list.append([dist, y_train[i]])\n",
    "    sorted_list.sort()\n",
    "    y_pred_knn.append(sorted_list[0][1])"
   ]
  },
  {
   "cell_type": "code",
   "execution_count": 8,
   "metadata": {},
   "outputs": [],
   "source": [
    "y_pred_knn = []\n",
    "for test_value in X_test:\n",
    "    ind_min_metric = y_train[0]\n",
    "    min_metric = euclidian_metric(test_value, X_train[0])\n",
    "    \n",
    "    for index, train_value in enumerate(X_train):\n",
    "        metric = euclidian_metric(test_value, train_value)\n",
    "        if metric < min_metric:\n",
    "            min_metric = metric\n",
    "            ind_min_metric = y_train[index]\n",
    "            \n",
    "    y_pred_knn.append(ind_min_metric)"
   ]
  },
  {
   "cell_type": "code",
   "execution_count": 9,
   "metadata": {},
   "outputs": [
    {
     "name": "stdout",
     "output_type": "stream",
     "text": [
      "1nn classifier error: \n",
      "0.03786191536748329\n"
     ]
    }
   ],
   "source": [
    "#Accuracy\n",
    "knn_err_rate = 1 - metrics.accuracy_score(y_test, y_pred_knn)\n",
    "print('1nn classifier error: ')\n",
    "print(knn_err_rate)"
   ]
  },
  {
   "cell_type": "code",
   "execution_count": 10,
   "metadata": {},
   "outputs": [
    {
     "data": {
      "text/plain": [
       "0.03786191536748329"
      ]
     },
     "execution_count": 10,
     "metadata": {},
     "output_type": "execute_result"
    }
   ],
   "source": [
    "knn_err_rate"
   ]
  },
  {
   "cell_type": "code",
   "execution_count": 11,
   "metadata": {},
   "outputs": [],
   "source": [
    "with open('answer1_1NNvsRandomForest.txt', 'w') as fout:\n",
    "    fout.write( str(knn_err_rate) )"
   ]
  },
  {
   "cell_type": "code",
   "execution_count": 12,
   "metadata": {},
   "outputs": [],
   "source": [
    "from sklearn import ensemble"
   ]
  },
  {
   "cell_type": "code",
   "execution_count": 13,
   "metadata": {},
   "outputs": [],
   "source": [
    "model = ensemble.RandomForestClassifier(n_estimators=1000)"
   ]
  },
  {
   "cell_type": "code",
   "execution_count": 14,
   "metadata": {},
   "outputs": [
    {
     "data": {
      "text/plain": [
       "RandomForestClassifier(bootstrap=True, class_weight=None, criterion='gini',\n",
       "            max_depth=None, max_features='auto', max_leaf_nodes=None,\n",
       "            min_impurity_decrease=0.0, min_impurity_split=None,\n",
       "            min_samples_leaf=1, min_samples_split=2,\n",
       "            min_weight_fraction_leaf=0.0, n_estimators=1000, n_jobs=None,\n",
       "            oob_score=False, random_state=None, verbose=0,\n",
       "            warm_start=False)"
      ]
     },
     "execution_count": 14,
     "metadata": {},
     "output_type": "execute_result"
    }
   ],
   "source": [
    "model.fit(X_train, y_train)"
   ]
  },
  {
   "cell_type": "code",
   "execution_count": 15,
   "metadata": {},
   "outputs": [],
   "source": [
    "y_predict = model.predict(X_test)"
   ]
  },
  {
   "cell_type": "code",
   "execution_count": 16,
   "metadata": {},
   "outputs": [
    {
     "name": "stdout",
     "output_type": "stream",
     "text": [
      "RandomForestClassifier error: \n",
      "0.06458797327394206\n"
     ]
    }
   ],
   "source": [
    "RandomForestClassifier_err_rate = 1 - metrics.accuracy_score(y_test, y_predict)\n",
    "print('RandomForestClassifier error: ')\n",
    "print(RandomForestClassifier_err_rate)"
   ]
  },
  {
   "cell_type": "code",
   "execution_count": 18,
   "metadata": {},
   "outputs": [],
   "source": [
    "with open('answer2_1NNvsRandomForest.txt', 'w') as fout:\n",
    "    fout.write( str(RandomForestClassifier_err_rate) )"
   ]
  },
  {
   "cell_type": "code",
   "execution_count": null,
   "metadata": {},
   "outputs": [],
   "source": []
  }
 ],
 "metadata": {
  "kernelspec": {
   "display_name": "Python 3",
   "language": "python",
   "name": "python3"
  },
  "language_info": {
   "codemirror_mode": {
    "name": "ipython",
    "version": 3
   },
   "file_extension": ".py",
   "mimetype": "text/x-python",
   "name": "python",
   "nbconvert_exporter": "python",
   "pygments_lexer": "ipython3",
   "version": "3.7.1"
  }
 },
 "nbformat": 4,
 "nbformat_minor": 2
}
