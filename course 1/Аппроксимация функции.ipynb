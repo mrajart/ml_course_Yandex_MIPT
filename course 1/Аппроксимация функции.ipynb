{
 "cells": [
  {
   "cell_type": "markdown",
   "metadata": {},
   "source": [
    "## Аппроксимация функции"
   ]
  },
  {
   "cell_type": "code",
   "execution_count": 29,
   "metadata": {},
   "outputs": [],
   "source": [
    "import scipy as sp\n",
    "from scipy import linalg\n",
    "import numpy as np"
   ]
  },
  {
   "cell_type": "code",
   "execution_count": 10,
   "metadata": {},
   "outputs": [],
   "source": [
    "def f(x) :\n",
    "    return sp.sin(x/5) * sp.exp(x/10) + 5 * sp.exp(-x/2)"
   ]
  },
  {
   "cell_type": "code",
   "execution_count": 13,
   "metadata": {},
   "outputs": [],
   "source": [
    "xbeg = np.arange(1, 15, 0.1)"
   ]
  },
  {
   "cell_type": "code",
   "execution_count": 14,
   "metadata": {},
   "outputs": [
    {
     "data": {
      "text/plain": [
       "array([ 1. ,  1.1,  1.2,  1.3,  1.4,  1.5,  1.6,  1.7,  1.8,  1.9,  2. ,\n",
       "        2.1,  2.2,  2.3,  2.4,  2.5,  2.6,  2.7,  2.8,  2.9,  3. ,  3.1,\n",
       "        3.2,  3.3,  3.4,  3.5,  3.6,  3.7,  3.8,  3.9,  4. ,  4.1,  4.2,\n",
       "        4.3,  4.4,  4.5,  4.6,  4.7,  4.8,  4.9,  5. ,  5.1,  5.2,  5.3,\n",
       "        5.4,  5.5,  5.6,  5.7,  5.8,  5.9,  6. ,  6.1,  6.2,  6.3,  6.4,\n",
       "        6.5,  6.6,  6.7,  6.8,  6.9,  7. ,  7.1,  7.2,  7.3,  7.4,  7.5,\n",
       "        7.6,  7.7,  7.8,  7.9,  8. ,  8.1,  8.2,  8.3,  8.4,  8.5,  8.6,\n",
       "        8.7,  8.8,  8.9,  9. ,  9.1,  9.2,  9.3,  9.4,  9.5,  9.6,  9.7,\n",
       "        9.8,  9.9, 10. , 10.1, 10.2, 10.3, 10.4, 10.5, 10.6, 10.7, 10.8,\n",
       "       10.9, 11. , 11.1, 11.2, 11.3, 11.4, 11.5, 11.6, 11.7, 11.8, 11.9,\n",
       "       12. , 12.1, 12.2, 12.3, 12.4, 12.5, 12.6, 12.7, 12.8, 12.9, 13. ,\n",
       "       13.1, 13.2, 13.3, 13.4, 13.5, 13.6, 13.7, 13.8, 13.9, 14. , 14.1,\n",
       "       14.2, 14.3, 14.4, 14.5, 14.6, 14.7, 14.8, 14.9])"
      ]
     },
     "execution_count": 14,
     "metadata": {},
     "output_type": "execute_result"
    }
   ],
   "source": [
    "xbeg"
   ]
  },
  {
   "cell_type": "code",
   "execution_count": 15,
   "metadata": {},
   "outputs": [],
   "source": [
    "ybeg = f(xbeg)"
   ]
  },
  {
   "cell_type": "code",
   "execution_count": 17,
   "metadata": {},
   "outputs": [
    {
     "data": {
      "text/plain": [
       "array([3.25221687, 3.12835399, 3.01206714, 2.90299951, 2.80081118,\n",
       "       2.70517826, 2.6157921 , 2.53235853, 2.45459713, 2.38224055,\n",
       "       2.31503384, 2.25273387, 2.19510867, 2.14193694, 2.09300744,\n",
       "       2.04811856, 2.00707777, 1.96970118, 1.93581311, 1.90524569,\n",
       "       1.87783842, 1.8534378 , 1.83189701, 1.81307554, 1.79683886,\n",
       "       1.78305813, 1.77160989, 1.76237578, 1.75524231, 1.75010055,\n",
       "       1.74684595, 1.74537806, 1.74560034, 1.74741997, 1.75074761,\n",
       "       1.75549726, 1.76158605, 1.76893408, 1.77746429, 1.78710226,\n",
       "       1.7977761 , 1.80941632, 1.82195565, 1.83532898, 1.84947321,\n",
       "       1.86432715, 1.8798314 , 1.89592828, 1.91256169, 1.92967706,\n",
       "       1.94722128, 1.96514256, 1.98339041, 2.00191553, 2.02066978,\n",
       "       2.03960608, 2.05867839, 2.07784159, 2.09705151, 2.11626482,\n",
       "       2.13543898, 2.15453224, 2.17350357, 2.19231261, 2.21091966,\n",
       "       2.22928563, 2.24737201, 2.26514084, 2.28255469, 2.29957661,\n",
       "       2.31617016, 2.33229931, 2.3479285 , 2.36302256, 2.37754673,\n",
       "       2.39146662, 2.40474822, 2.41735787, 2.42926225, 2.4404284 ,\n",
       "       2.45082365, 2.46041567, 2.46917245, 2.47706227, 2.48405374,\n",
       "       2.49011575, 2.49521751, 2.4993285 , 2.50241853, 2.5044577 ,\n",
       "       2.50541641, 2.50526537, 2.5039756 , 2.50151843, 2.4978655 ,\n",
       "       2.4929888 , 2.48686063, 2.47945363, 2.47074078, 2.46069543,\n",
       "       2.44929128, 2.43650241, 2.42230328, 2.40666873, 2.38957402,\n",
       "       2.37099482, 2.35090722, 2.32928777, 2.30611345, 2.28136171,\n",
       "       2.2550105 , 2.22703823, 2.19742385, 2.16614681, 2.13318711,\n",
       "       2.0985253 , 2.06214251, 2.02402043, 1.98414137, 1.94248826,\n",
       "       1.89904466, 1.85379478, 1.8067235 , 1.75781638, 1.7070597 ,\n",
       "       1.65444046, 1.59994638, 1.54356596, 1.48528848, 1.42510398,\n",
       "       1.36300335, 1.29897829, 1.23302137, 1.16512601, 1.09528654,\n",
       "       1.02349816, 0.94975703, 0.87406025, 0.79640586, 0.7167929 ])"
      ]
     },
     "execution_count": 17,
     "metadata": {},
     "output_type": "execute_result"
    }
   ],
   "source": [
    "ybeg"
   ]
  },
  {
   "cell_type": "code",
   "execution_count": 18,
   "metadata": {},
   "outputs": [],
   "source": [
    "import matplotlib.pyplot as plt "
   ]
  },
  {
   "cell_type": "code",
   "execution_count": 19,
   "metadata": {},
   "outputs": [
    {
     "data": {
      "text/plain": [
       "[<matplotlib.lines.Line2D at 0x1f56a75fcc8>]"
      ]
     },
     "execution_count": 19,
     "metadata": {},
     "output_type": "execute_result"
    },
    {
     "data": {
      "image/png": "[encoded data removed]",
      "text/plain": [
       "<Figure size 432x288 with 1 Axes>"
      ]
     },
     "metadata": {
      "needs_background": "light"
     },
     "output_type": "display_data"
    }
   ],
   "source": [
    "plt.plot(xbeg, ybeg)"
   ]
  },
  {
   "cell_type": "code",
   "execution_count": 48,
   "metadata": {},
   "outputs": [
    {
     "name": "stdout",
     "output_type": "stream",
     "text": [
      "[ 1 15]\n"
     ]
    }
   ],
   "source": [
    "x1 = np.array([1, 15])\n",
    "print (x1)"
   ]
  },
  {
   "cell_type": "code",
   "execution_count": 49,
   "metadata": {},
   "outputs": [
    {
     "name": "stdout",
     "output_type": "stream",
     "text": [
      "[3.25221687 0.63522142]\n"
     ]
    }
   ],
   "source": [
    "y1 = f(x1)\n",
    "print (y1)"
   ]
  },
  {
   "cell_type": "code",
   "execution_count": 54,
   "metadata": {},
   "outputs": [
    {
     "name": "stdout",
     "output_type": "stream",
     "text": [
      "[[ 1  1]\n",
      " [ 1 15]]\n",
      "[3.25221687 0.63522142]\n"
     ]
    }
   ],
   "source": [
    "A1 = np.array([[1, 1],\n",
    "             [1, 15]])\n",
    "print (A1)\n",
    "print (y1)"
   ]
  },
  {
   "cell_type": "code",
   "execution_count": 79,
   "metadata": {},
   "outputs": [
    {
     "name": "stdout",
     "output_type": "stream",
     "text": [
      "[ 3.43914511 -0.18692825]\n"
     ]
    }
   ],
   "source": [
    "wfirst = linalg.solve(A1,y1)\n",
    "print(wfirst)"
   ]
  },
  {
   "cell_type": "code",
   "execution_count": null,
   "metadata": {},
   "outputs": [],
   "source": []
  },
  {
   "cell_type": "code",
   "execution_count": 89,
   "metadata": {},
   "outputs": [],
   "source": [
    "def f1(x) :\n",
    "    p = wfirst[-1]\n",
    "    for i in range(len(wfirst)-2,-1,-1) :\n",
    "        p *= x    \n",
    "        p += wfirst[i]\n",
    "    return p"
   ]
  },
  {
   "cell_type": "code",
   "execution_count": 90,
   "metadata": {},
   "outputs": [
    {
     "name": "stdout",
     "output_type": "stream",
     "text": [
      "0.6352214195786656\n"
     ]
    }
   ],
   "source": [
    "print(f1(15))"
   ]
  },
  {
   "cell_type": "code",
   "execution_count": 91,
   "metadata": {},
   "outputs": [],
   "source": [
    "ymnfirst = f1(xbeg)"
   ]
  },
  {
   "cell_type": "code",
   "execution_count": 92,
   "metadata": {},
   "outputs": [
    {
     "data": {
      "text/plain": [
       "[<matplotlib.lines.Line2D at 0x1f56e673308>]"
      ]
     },
     "execution_count": 92,
     "metadata": {},
     "output_type": "execute_result"
    },
    {
     "data": {
      "image/png": "[encoded data removed]",
      "text/plain": [
       "<Figure size 432x288 with 1 Axes>"
      ]
     },
     "metadata": {
      "needs_background": "light"
     },
     "output_type": "display_data"
    }
   ],
   "source": [
    "plt.plot(xbeg, ymnfirst)"
   ]
  },
  {
   "cell_type": "code",
   "execution_count": 93,
   "metadata": {},
   "outputs": [
    {
     "name": "stdout",
     "output_type": "stream",
     "text": [
      "[ 1  8 15]\n",
      "[3.25221687 2.31617016 0.63522142]\n",
      "[[  1   1   1]\n",
      " [  1   8  64]\n",
      " [  1  15 225]]\n"
     ]
    }
   ],
   "source": [
    "x2 = np.array([1, 8, 15])\n",
    "print (x2)\n",
    "y2 = f(x2)\n",
    "print (y2)\n",
    "A2 = np.array([[1, 1, 1**2],\n",
    "             [1, 8, 8**2],\n",
    "             [1, 15, 15**2] ])\n",
    "print (A2)"
   ]
  },
  {
   "cell_type": "code",
   "execution_count": 94,
   "metadata": {},
   "outputs": [
    {
     "data": {
      "text/plain": [
       "[<matplotlib.lines.Line2D at 0x1f56e6d7cc8>]"
      ]
     },
     "execution_count": 94,
     "metadata": {},
     "output_type": "execute_result"
    },
    {
     "data": {
      "image/png": "[encoded data removed]",
      "text/plain": [
       "<Figure size 432x288 with 1 Axes>"
      ]
     },
     "metadata": {
      "needs_background": "light"
     },
     "output_type": "display_data"
    }
   ],
   "source": [
    "wsecond = linalg.solve(A2,y2)\n",
    "def f2(x) :\n",
    "    p = wsecond[-1]\n",
    "    for i in range(len(wsecond)-2,-1,-1) :\n",
    "        p *= x    \n",
    "        p += wsecond[i]\n",
    "    return p\n",
    "ymnsecond = f2(xbeg)\n",
    "plt.plot(xbeg, ymnsecond)"
   ]
  },
  {
   "cell_type": "code",
   "execution_count": 95,
   "metadata": {},
   "outputs": [
    {
     "name": "stdout",
     "output_type": "stream",
     "text": [
      "[ 1  4 10 15]\n",
      "[3.25221687 1.74684595 2.50541641 0.63522142]\n",
      "[[   1    1    1    1]\n",
      " [   1    4   16   64]\n",
      " [   1   10  100 1000]\n",
      " [   1   15  225 3375]]\n"
     ]
    }
   ],
   "source": [
    "x3 = np.array([1, 4, 10, 15])\n",
    "print (x3)\n",
    "y3 = f(x3)\n",
    "print (y3)\n",
    "A3 = np.array([[1, 1, 1**2, 1**3],\n",
    "               [1, 4, 4**2, 4**3],\n",
    "               [1, 10, 10**2, 10**3],\n",
    "               [1, 15, 15**2, 15**3] ])\n",
    "print (A3)"
   ]
  },
  {
   "cell_type": "code",
   "execution_count": 96,
   "metadata": {},
   "outputs": [
    {
     "data": {
      "text/plain": [
       "[<matplotlib.lines.Line2D at 0x1f56e6aa308>]"
      ]
     },
     "execution_count": 96,
     "metadata": {},
     "output_type": "execute_result"
    },
    {
     "data": {
      "image/png": "[encoded data removed]",
      "text/plain": [
       "<Figure size 432x288 with 1 Axes>"
      ]
     },
     "metadata": {
      "needs_background": "light"
     },
     "output_type": "display_data"
    }
   ],
   "source": [
    "wthird = linalg.solve(A3,y3)\n",
    "def f3(x) :\n",
    "    p = wthird[-1]\n",
    "    for i in range(len(wthird)-2,-1,-1) :\n",
    "        p *= x    \n",
    "        p += wthird[i]\n",
    "    return p\n",
    "ymnthird = f3(xbeg)\n",
    "plt.plot(xbeg, ymnthird)"
   ]
  },
  {
   "cell_type": "code",
   "execution_count": 98,
   "metadata": {},
   "outputs": [],
   "source": [
    "f = open(\"submission-2.txt\", \"w\")\n",
    "f.write(str(wthird[0]) + ' ' + str(wthird[1]) + ' ' + str(wthird[2]) + ' ' + str(wthird[3]))\n",
    "f.close()"
   ]
  },
  {
   "cell_type": "code",
   "execution_count": null,
   "metadata": {},
   "outputs": [],
   "source": []
  }
 ],
 "metadata": {
  "kernelspec": {
   "display_name": "Python 3",
   "language": "python",
   "name": "python3"
  },
  "language_info": {
   "codemirror_mode": {
    "name": "ipython",
    "version": 3
   },
   "file_extension": ".py",
   "mimetype": "text/x-python",
   "name": "python",
   "nbconvert_exporter": "python",
   "pygments_lexer": "ipython3",
   "version": "3.7.9"
  }
 },
 "nbformat": 4,
 "nbformat_minor": 2
}
