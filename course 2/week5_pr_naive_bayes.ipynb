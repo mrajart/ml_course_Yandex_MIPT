{
 "cells": [
  {
   "cell_type": "code",
   "execution_count": 1,
   "metadata": {},
   "outputs": [],
   "source": [
    "from sklearn import datasets, model_selection, naive_bayes\n",
    "import numpy as np"
   ]
  },
  {
   "cell_type": "code",
   "execution_count": 4,
   "metadata": {},
   "outputs": [],
   "source": [
    "X_digits, y_digits = datasets.load_digits(return_X_y = True)\n",
    "X_cancer, y_cancer = datasets.load_breast_cancer(return_X_y = True)"
   ]
  },
  {
   "cell_type": "code",
   "execution_count": 15,
   "metadata": {},
   "outputs": [
    {
     "name": "stdout",
     "output_type": "stream",
     "text": [
      "[ 0.  0.  0.  0. 12.  5.  0.  0.  0.  0.  0.  2. 16. 12.  0.  0.  0.  0.\n",
      "  1. 12. 16. 11.  0.  0.  0.  2. 12. 16. 16. 10.  0.  0.  0.  6. 11.  5.\n",
      " 15.  6.  0.  0.  0.  0.  0.  1. 16.  9.  0.  0.  0.  0.  0.  2. 16. 11.\n",
      "  0.  0.  0.  0.  0.  3. 16.  8.  0.  0.]\n"
     ]
    }
   ],
   "source": [
    "print(X_digits[42])"
   ]
  },
  {
   "cell_type": "code",
   "execution_count": 16,
   "metadata": {},
   "outputs": [
    {
     "name": "stdout",
     "output_type": "stream",
     "text": [
      "[1.907e+01 2.481e+01 1.283e+02 1.104e+03 9.081e-02 2.190e-01 2.107e-01\n",
      " 9.961e-02 2.310e-01 6.343e-02 9.811e-01 1.666e+00 8.830e+00 1.049e+02\n",
      " 6.548e-03 1.006e-01 9.723e-02 2.638e-02 5.333e-02 7.646e-03 2.409e+01\n",
      " 3.317e+01 1.774e+02 1.651e+03 1.247e-01 7.444e-01 7.242e-01 2.493e-01\n",
      " 4.670e-01 1.038e-01]\n"
     ]
    }
   ],
   "source": [
    "print(X_cancer[42])"
   ]
  },
  {
   "cell_type": "code",
   "execution_count": 23,
   "metadata": {},
   "outputs": [
    {
     "name": "stdout",
     "output_type": "stream",
     "text": [
      "0.8258236507780582\n"
     ]
    }
   ],
   "source": [
    "bernoulli = naive_bayes.BernoulliNB()\n",
    "bernoulli_score_digits = model_selection.cross_val_score(bernoulli, X_digits, y_digits, cv=3)\n",
    "print(bernoulli_score_digits.mean())"
   ]
  },
  {
   "cell_type": "code",
   "execution_count": 24,
   "metadata": {},
   "outputs": [
    {
     "name": "stdout",
     "output_type": "stream",
     "text": [
      "0.6274204028589994\n"
     ]
    }
   ],
   "source": [
    "bernoulli_score_cancer = model_selection.cross_val_score(bernoulli, X_cancer, y_cancer, cv=3)\n",
    "print(bernoulli_score_cancer.mean())"
   ]
  },
  {
   "cell_type": "code",
   "execution_count": 25,
   "metadata": {},
   "outputs": [
    {
     "name": "stdout",
     "output_type": "stream",
     "text": [
      "0.8708771489735053\n"
     ]
    }
   ],
   "source": [
    "multinomial = naive_bayes.MultinomialNB()\n",
    "multinomial_score_digits = model_selection.cross_val_score(multinomial, X_digits, y_digits, cv=3)\n",
    "print(multinomial_score_digits.mean())"
   ]
  },
  {
   "cell_type": "code",
   "execution_count": 26,
   "metadata": {},
   "outputs": [
    {
     "name": "stdout",
     "output_type": "stream",
     "text": [
      "0.8945790401930752\n"
     ]
    }
   ],
   "source": [
    "multinomial_score_cancer = model_selection.cross_val_score(multinomial, X_cancer, y_cancer, cv=3)\n",
    "print(multinomial_score_cancer.mean())"
   ]
  },
  {
   "cell_type": "code",
   "execution_count": 27,
   "metadata": {},
   "outputs": [
    {
     "name": "stdout",
     "output_type": "stream",
     "text": [
      "0.8186003803550138\n"
     ]
    }
   ],
   "source": [
    "gaussian = naive_bayes.GaussianNB()\n",
    "gaussian_score_digits = model_selection.cross_val_score(gaussian, X_digits, y_digits, cv=3)\n",
    "print(gaussian_score_digits.mean())"
   ]
  },
  {
   "cell_type": "code",
   "execution_count": 28,
   "metadata": {},
   "outputs": [
    {
     "name": "stdout",
     "output_type": "stream",
     "text": [
      "0.9367492806089297\n"
     ]
    }
   ],
   "source": [
    "gaussian_score_cancer = model_selection.cross_val_score(gaussian, X_cancer, y_cancer, cv=3)\n",
    "print(gaussian_score_cancer.mean())"
   ]
  },
  {
   "cell_type": "code",
   "execution_count": 29,
   "metadata": {},
   "outputs": [],
   "source": [
    "with open('naive_bayes_answer1.txt', 'w') as fout:\n",
    "    fout.write(str(np.max([bernoulli_score_cancer.mean(), multinomial_score_cancer.mean(), gaussian_score_cancer.mean()])))"
   ]
  },
  {
   "cell_type": "code",
   "execution_count": 30,
   "metadata": {},
   "outputs": [],
   "source": [
    "with open('naive_bayes_answer2.txt', 'w') as fout:\n",
    "    fout.write(str(np.max([bernoulli_score_digits.mean(), multinomial_score_digits.mean(), gaussian_score_digits.mean()])))"
   ]
  },
  {
   "cell_type": "code",
   "execution_count": 31,
   "metadata": {},
   "outputs": [],
   "source": [
    "answer = '3' + ' ' + '4'\n",
    "with open('naive_bayes_answer3.txt', 'w') as fout:\n",
    "    fout.write(answer)"
   ]
  }
 ],
 "metadata": {
  "kernelspec": {
   "display_name": "Python 3",
   "language": "python",
   "name": "python3"
  },
  "language_info": {
   "codemirror_mode": {
    "name": "ipython",
    "version": 3
   },
   "file_extension": ".py",
   "mimetype": "text/x-python",
   "name": "python",
   "nbconvert_exporter": "python",
   "pygments_lexer": "ipython3",
   "version": "3.7.1"
  }
 },
 "nbformat": 4,
 "nbformat_minor": 2
}
